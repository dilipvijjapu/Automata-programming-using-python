{
 "cells": [
  {
   "cell_type": "markdown",
   "metadata": {},
   "source": [
    "# 2.Write a code for L(M)={w|w has even number of 1's}"
   ]
  },
  {
   "cell_type": "code",
   "execution_count": 1,
   "metadata": {},
   "outputs": [
    {
     "name": "stdout",
     "output_type": "stream",
     "text": [
      "101010101010\n",
      "accepted:The given input has even number of 1's\n"
     ]
    }
   ],
   "source": [
    "from automata.fa.dfa import DFA\n",
    "\n",
    "dfa=DFA(\n",
    "    states={'q0','q1'},\n",
    "    input_symbols={'0','1'},\n",
    "    transitions={\n",
    "        'q0':{'0':'q0','1':'q1'},\n",
    "        'q1':{'0':'q1','1':'q0'}\n",
    "    },\n",
    "  initial_state='q0',\n",
    "  final_states={'q0'}\n",
    "\n",
    ")\n",
    "\n",
    "num=input(\"\")\n",
    "dfa.read_input(num)\n",
    "\n",
    "if dfa.accepts_input(num):\n",
    "    print(\"accepted:The given input has even number of 1's\")\n",
    "else:\n",
    "    print(\"rejected:The given input has odd number of 1's\")"
   ]
  },
  {
   "cell_type": "markdown",
   "metadata": {},
   "source": [
    "# 1.Write a code for language that accepts all and only those stringd that contain '001'"
   ]
  },
  {
   "cell_type": "code",
   "execution_count": 2,
   "metadata": {},
   "outputs": [
    {
     "name": "stdout",
     "output_type": "stream",
     "text": [
      " 101001010\n",
      "Accepted:The given input has substring 001\n",
      "print y/ny\n",
      " 10000000000001\n",
      "Accepted:The given input has substring 001\n",
      "print y/ny\n",
      " 101010101010101\n",
      "Rejected:The given input does not have substring 001\n",
      "print y/nn\n"
     ]
    }
   ],
   "source": [
    "\n",
    "while True:\n",
    "    from automata.fa.dfa import DFA\n",
    "    dfa=DFA(\n",
    "      states={'q0','q1','q2','q3'},\n",
    "      input_symbols={'0','1'},\n",
    "      transitions={\n",
    "        'q0':{'0':'q1','1':'q0'},\n",
    "        'q1':{'0':'q2','1':'q0'},\n",
    "        'q2':{'1':'q3','0':'q2'},\n",
    "        'q3':{'0':'q3','1':'q3'}\n",
    "    },\n",
    "    initial_state='q0',\n",
    "    final_states={'q3'}\n",
    "     )\n",
    "    num=input(\" \")\n",
    "    #dfa.read_input(num)\n",
    "    if dfa.accepts_input(num):\n",
    "         print('Accepted:The given input has substring 001')\n",
    "    else:\n",
    "        print('Rejected:The given input does not have substring 001')\n",
    "    answer=input(\"print y/n\")\n",
    "    if answer=='y':\n",
    "        continue\n",
    "    else:\n",
    "        break\n"
   ]
  },
  {
   "cell_type": "markdown",
   "metadata": {},
   "source": [
    "# 3.Write automata code for {0,1}*"
   ]
  },
  {
   "cell_type": "code",
   "execution_count": 3,
   "metadata": {},
   "outputs": [
    {
     "name": "stdout",
     "output_type": "stream",
     "text": [
      "enter a number with 0's and 1's10101010101010\n",
      "The entered string satisfied the language which defined above\n",
      "type y/ny\n",
      "enter a number with 0's and 1's12356870175\n",
      "The enetered string doe not satisfy the language which defined above\n",
      "type y/ny\n",
      "enter a number with 0's and 1's101010\n",
      "The entered string satisfied the language which defined above\n",
      "type y/nn\n"
     ]
    }
   ],
   "source": [
    "\n",
    "while True:\n",
    "    from automata.fa.dfa import DFA\n",
    "    dfa=DFA(\n",
    "              states={'q0'},\n",
    "              input_symbols={'0','1'},\n",
    "             transitions={\n",
    "             'q0':{'0':'q0','1':'q0'}\n",
    "               },\n",
    "\n",
    "          initial_state='q0',\n",
    "          final_states={'q0'}\n",
    "          )\n",
    "    num=input(\"enter a number with 0's and 1's\")\n",
    "    if dfa.accepts_input(num):\n",
    "        print(\"The entered string satisfied the language which defined above\")\n",
    "    else:\n",
    "        print(\"The enetered string doe not satisfy the language which defined above\")\n",
    "    answer=input(\"type y/n\")\n",
    "    if answer=='y':\n",
    "            continue\n",
    "    else:\n",
    "        break"
   ]
  },
  {
   "cell_type": "markdown",
   "metadata": {},
   "source": [
    "# 4.Write a automata code for L(M)={(ab)^n|n belongs to N}"
   ]
  },
  {
   "cell_type": "code",
   "execution_count": 4,
   "metadata": {},
   "outputs": [
    {
     "name": "stdout",
     "output_type": "stream",
     "text": [
      "enter a string with consecutive abababababababab\n",
      "The string entered matches with the regular expression of the language declared above\n",
      "type y/ny\n",
      "enter a string with consecutive ababdgeysjshduy\n",
      "The string entered does not match with the language declared above\n",
      "type y/ny\n",
      "enter a string with consecutive ababcgdhetdhs\n",
      "The string entered does not match with the language declared above\n",
      "type y/nn\n"
     ]
    }
   ],
   "source": [
    "while True:\n",
    "    from automata.fa.dfa import DFA\n",
    "    dfa=DFA(\n",
    "       states={'q0','q1'},\n",
    "       input_symbols={'a','b'},\n",
    "        transitions={\n",
    "        'q0':{'a':'q1','b':'q0'},\n",
    "        'q1':{'b':'q0','a':'q1'}\n",
    "      },\n",
    "    initial_state='q0',\n",
    "    final_states={'q0'}\n",
    "     )\n",
    "    num=input(\"enter a string with consecutive ab\")\n",
    "    if dfa.accepts_input(num):\n",
    "            print(\"The string entered matches with the regular expression of the language declared above\")\n",
    "    \n",
    "    else:\n",
    "          print(\"The string entered does not match with the language declared above\")\n",
    "    answer=input(\"type y/n\")\n",
    "    if(answer=='y'):\n",
    "             continue\n",
    "    else:\n",
    "              break"
   ]
  },
  {
   "cell_type": "markdown",
   "metadata": {},
   "source": [
    "# 5.Write a automata code for L(M)=a+aa*b"
   ]
  },
  {
   "cell_type": "code",
   "execution_count": 5,
   "metadata": {},
   "outputs": [
    {
     "name": "stdout",
     "output_type": "stream",
     "text": [
      "Try to enter a string which satisfies regular expression a+a*baaaaaaaaaaab\n",
      "The string enters satisfies above mentioned regular expression\n",
      "Enter y/ny\n",
      "Try to enter a string which satisfies regular expression a+a*baacbabab\n",
      "The string entered does not satisfy above mentioned regular expression\n",
      "Enter y/nn\n"
     ]
    }
   ],
   "source": [
    "while True:\n",
    "    from automata.fa.dfa import DFA\n",
    "    dfa=DFA(\n",
    "       states={'q0','q1','q2','q3'},\n",
    "       input_symbols={'a','b'},\n",
    "       transitions={\n",
    "           'q0':{'a':'q1','b':'q0'},\n",
    "           'q1':{'a':'q2','b':'q1'},\n",
    "           'q2':{'a':'q2','b':'q3'},\n",
    "           'q3':{'a':'q3','b':'q3'}\n",
    "       },\n",
    "        initial_state='q0',\n",
    "        final_states={'q3'}\n",
    "        \n",
    "    )\n",
    "    num=input(\"Try to enter a string which satisfies regular expression a+a*b\")\n",
    "    if dfa.accepts_input(num):\n",
    "        print(\"The string enters satisfies above mentioned regular expression\")\n",
    "    else:\n",
    "        print(\"The string entered does not satisfy above mentioned regular expression\")\n",
    "    answer=input(\"Enter y/n\")\n",
    "    if answer=='y':\n",
    "        continue\n",
    "    else:\n",
    "        break\n",
    "        \n",
    "    "
   ]
  },
  {
   "cell_type": "code",
   "execution_count": null,
   "metadata": {},
   "outputs": [],
   "source": []
  },
  {
   "cell_type": "code",
   "execution_count": null,
   "metadata": {},
   "outputs": [],
   "source": []
  },
  {
   "cell_type": "code",
   "execution_count": null,
   "metadata": {},
   "outputs": [],
   "source": []
  }
 ],
 "metadata": {
  "kernelspec": {
   "display_name": "Python 3",
   "language": "python",
   "name": "python3"
  },
  "language_info": {
   "codemirror_mode": {
    "name": "ipython",
    "version": 3
   },
   "file_extension": ".py",
   "mimetype": "text/x-python",
   "name": "python",
   "nbconvert_exporter": "python",
   "pygments_lexer": "ipython3",
   "version": "3.7.6"
  }
 },
 "nbformat": 4,
 "nbformat_minor": 4
}
